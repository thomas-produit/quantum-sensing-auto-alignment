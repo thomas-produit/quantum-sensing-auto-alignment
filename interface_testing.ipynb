{
 "cells": [
  {
   "cell_type": "code",
   "execution_count": 1,
   "id": "be39aa85-99a3-43cc-9f51-f1df0abe46e7",
   "metadata": {},
   "outputs": [],
   "source": [
    "from app.interface import QuantumImaging\n",
    "import h5py\n",
    "import numpy as np\n",
    "import matplotlib.pyplot as plt"
   ]
  },
  {
   "cell_type": "markdown",
   "id": "3d944d2e-01fd-4519-9ba6-d12ca95acfb9",
   "metadata": {},
   "source": [
    "# Manual Controls"
   ]
  },
  {
   "cell_type": "markdown",
   "id": "58f40a14-ab1e-4a92-9824-e1801d44aa10",
   "metadata": {
    "jp-MarkdownHeadingCollapsed": true
   },
   "source": [
    "## Z Fine"
   ]
  },
  {
   "cell_type": "code",
   "execution_count": 46,
   "id": "511ea089-b49e-45f0-8654-a1b23ac91f36",
   "metadata": {},
   "outputs": [],
   "source": [
    "from app.drivers import JenaDriver"
   ]
  },
  {
   "cell_type": "code",
   "execution_count": 55,
   "id": "2fef92b2-bd50-4452-b3cd-3e4197dbefc4",
   "metadata": {},
   "outputs": [],
   "source": [
    "# decalre an init\n",
    "z_fine = JenaDriver('/dev/ttyUSB2', 'z_fine')\n",
    "z_fine.initialise(config_dict={})"
   ]
  },
  {
   "cell_type": "code",
   "execution_count": 56,
   "id": "40e046f7-8bef-433b-8cb0-5bf8b9235b5a",
   "metadata": {},
   "outputs": [],
   "source": [
    "z_fine.set_parameters(0)"
   ]
  },
  {
   "cell_type": "code",
   "execution_count": 57,
   "id": "0d5fe729-c258-4966-8586-a2ef9ba40d80",
   "metadata": {},
   "outputs": [],
   "source": [
    "z_fine.shutdown()"
   ]
  },
  {
   "cell_type": "markdown",
   "id": "034c85eb-a50a-4d8c-a248-27c67948c1ab",
   "metadata": {
    "jp-MarkdownHeadingCollapsed": true
   },
   "source": [
    "## Sig arm"
   ]
  },
  {
   "cell_type": "code",
   "execution_count": 29,
   "id": "e2aaf8d1-8ee1-4abe-8ceb-97d308a01e97",
   "metadata": {},
   "outputs": [],
   "source": [
    "from app.drivers import KDC101"
   ]
  },
  {
   "cell_type": "code",
   "execution_count": 23,
   "id": "d321ae3e-7c2d-401d-9b68-586907a9400e",
   "metadata": {},
   "outputs": [],
   "source": [
    "# sig_arm_horz = KDC101('/dev/ttyUSB6', 'sig_arm_horz', tol=1e-4)\n",
    "# sig_arm_horz.initialise(config_dict={})"
   ]
  },
  {
   "cell_type": "markdown",
   "id": "d11fcabf-fb96-4e30-a783-90247760fcf2",
   "metadata": {
    "jp-MarkdownHeadingCollapsed": true
   },
   "source": [
    "## Horz"
   ]
  },
  {
   "cell_type": "code",
   "execution_count": 28,
   "id": "bdcf53bc-48bb-4f58-868e-3a3edf72410c",
   "metadata": {},
   "outputs": [],
   "source": [
    "sig_arm_horz = KDC101('/dev/ttyUSB4', 'sig_arm_horz', tol=1e-4)\n",
    "sig_arm_horz.initialise(config_dict={})"
   ]
  },
  {
   "cell_type": "code",
   "execution_count": 29,
   "id": "5e51dc17-3cb5-4326-b75d-bfecda2c89fa",
   "metadata": {},
   "outputs": [
    {
     "data": {
      "text/plain": [
       "0.0"
      ]
     },
     "execution_count": 29,
     "metadata": {},
     "output_type": "execute_result"
    }
   ],
   "source": [
    "sig_arm_horz.get_position()"
   ]
  },
  {
   "cell_type": "code",
   "execution_count": 32,
   "id": "596dc46b-20d2-46e4-bf72-7f70e82aca3c",
   "metadata": {},
   "outputs": [],
   "source": [
    "sig_arm_horz.set_parameters(1e-4)"
   ]
  },
  {
   "cell_type": "code",
   "execution_count": 33,
   "id": "56cce6ab-cd38-4b83-aa74-b455460aa342",
   "metadata": {},
   "outputs": [],
   "source": [
    "sig_arm_horz.set_parameters(0)"
   ]
  },
  {
   "cell_type": "code",
   "execution_count": 50,
   "id": "765de641-777d-4205-a732-ce5791a2081d",
   "metadata": {},
   "outputs": [
    {
     "data": {
      "text/plain": [
       "-0.00011998600746268657"
      ]
     },
     "execution_count": 50,
     "metadata": {},
     "output_type": "execute_result"
    }
   ],
   "source": [
    "sig_arm_horz.get_position()"
   ]
  },
  {
   "cell_type": "code",
   "execution_count": 34,
   "id": "046e36cc-ce03-40bc-949c-6211abf4ac17",
   "metadata": {},
   "outputs": [],
   "source": [
    "# closing\n",
    "sig_arm_horz.shutdown()\n",
    "# sig_arm_vert.shutdown()"
   ]
  },
  {
   "cell_type": "markdown",
   "id": "9ed74bce-b690-4441-8d66-e58375284ffc",
   "metadata": {
    "jp-MarkdownHeadingCollapsed": true
   },
   "source": [
    "## Vert"
   ]
  },
  {
   "cell_type": "code",
   "execution_count": 35,
   "id": "99ca0bb1-16f1-465d-ba08-06533ca98560",
   "metadata": {},
   "outputs": [],
   "source": [
    "sig_arm_vert = KDC101('/dev/ttyUSB6', 'sig_arm_vert', tol=1e-4)\n",
    "sig_arm_vert.initialise(config_dict={})"
   ]
  },
  {
   "cell_type": "code",
   "execution_count": 36,
   "id": "8db574c6-fba1-4068-92f8-5449a890d7a6",
   "metadata": {},
   "outputs": [
    {
     "data": {
      "text/plain": [
       "0.0"
      ]
     },
     "execution_count": 36,
     "metadata": {},
     "output_type": "execute_result"
    }
   ],
   "source": [
    "sig_arm_vert.get_position()"
   ]
  },
  {
   "cell_type": "code",
   "execution_count": 37,
   "id": "dbbf6d7c-eaad-470d-87e0-46ae96384998",
   "metadata": {},
   "outputs": [],
   "source": [
    "sig_arm_vert.set_parameters(-3.4e-5)"
   ]
  },
  {
   "cell_type": "code",
   "execution_count": 38,
   "id": "5a1203bb-86d6-4ac8-818e-5a26073d5487",
   "metadata": {},
   "outputs": [],
   "source": [
    "sig_arm_vert.set_parameters(0)"
   ]
  },
  {
   "cell_type": "code",
   "execution_count": 39,
   "id": "1e84a366-99ba-45cc-9e1c-b7ab812c87d6",
   "metadata": {},
   "outputs": [],
   "source": [
    "sig_arm_vert.shutdown()"
   ]
  },
  {
   "cell_type": "markdown",
   "id": "2447be75-b65a-42c4-bd67-4bb855230e7d",
   "metadata": {
    "jp-MarkdownHeadingCollapsed": true
   },
   "source": [
    "## Lateral"
   ]
  },
  {
   "cell_type": "code",
   "execution_count": 33,
   "id": "6f651606-38bf-4f49-a64e-ec14f119cd3b",
   "metadata": {},
   "outputs": [],
   "source": [
    "from app.drivers import KDC101"
   ]
  },
  {
   "cell_type": "code",
   "execution_count": 34,
   "id": "0e2c3f12-8ed9-49df-8768-3e1c068be94e",
   "metadata": {},
   "outputs": [],
   "source": [
    "lat_act = KDC101('/dev/ttyUSB7', 'lateral')\n",
    "lat_act.initialise(config_dict={})"
   ]
  },
  {
   "cell_type": "code",
   "execution_count": 35,
   "id": "3bac267b-d5ce-46b5-b7d4-2cfc699b7c0f",
   "metadata": {},
   "outputs": [
    {
     "data": {
      "text/plain": [
       "0.0"
      ]
     },
     "execution_count": 35,
     "metadata": {},
     "output_type": "execute_result"
    }
   ],
   "source": [
    "lat_act.get_position()"
   ]
  },
  {
   "cell_type": "code",
   "execution_count": 36,
   "id": "5de3c8f6-764e-4140-8fc2-96e81a88a63d",
   "metadata": {},
   "outputs": [],
   "source": [
    "lat_act.set_parameters(1e-3)"
   ]
  },
  {
   "cell_type": "code",
   "execution_count": 37,
   "id": "318ca4ef-5b55-4a2a-a4d2-8a38081a4a4f",
   "metadata": {},
   "outputs": [],
   "source": [
    "lat_act.set_parameters(0)"
   ]
  },
  {
   "cell_type": "code",
   "execution_count": 38,
   "id": "77d18044-926f-497f-82fa-2efa4d919389",
   "metadata": {},
   "outputs": [],
   "source": [
    "lat_act.shutdown()"
   ]
  },
  {
   "cell_type": "markdown",
   "id": "24311714-ade7-475f-92d0-106f1eae3f5e",
   "metadata": {
    "jp-MarkdownHeadingCollapsed": true
   },
   "source": [
    "## Longitudinal"
   ]
  },
  {
   "cell_type": "code",
   "execution_count": 3,
   "id": "63c3b635-0ab3-4a32-9b40-9e5a69dcc451",
   "metadata": {},
   "outputs": [],
   "source": [
    "from app.drivers import KDC101"
   ]
  },
  {
   "cell_type": "code",
   "execution_count": 22,
   "id": "829f692f-8b29-4bb4-ad98-fb73609fcda5",
   "metadata": {},
   "outputs": [],
   "source": [
    "long_act = KDC101('/dev/ttyUSB3', 'longitudinal_4485', tol=1e-4)\n",
    "long_act.initialise(config_dict={})"
   ]
  },
  {
   "cell_type": "code",
   "execution_count": 23,
   "id": "ec00a7ed-53fe-41a0-ac3a-85b2d12974a9",
   "metadata": {},
   "outputs": [
    {
     "name": "stdout",
     "output_type": "stream",
     "text": [
      "0.0\n",
      "m\n"
     ]
    }
   ],
   "source": [
    "print(long_act.get_position())\n",
    "print(long_act._actuator.get_scale_units())"
   ]
  },
  {
   "cell_type": "code",
   "execution_count": 26,
   "id": "1a010575-3f34-4e7d-9315-37d13156d033",
   "metadata": {},
   "outputs": [],
   "source": [
    "long_act.set_parameters(1e-4)"
   ]
  },
  {
   "cell_type": "code",
   "execution_count": 27,
   "id": "bcda6563-7298-4ea8-a143-a809a59e7130",
   "metadata": {},
   "outputs": [],
   "source": [
    "long_act.set_parameters(0)"
   ]
  },
  {
   "cell_type": "code",
   "execution_count": 21,
   "id": "62a70ac9-6e48-4adc-b846-482e46ea2639",
   "metadata": {},
   "outputs": [],
   "source": [
    "long_act.shutdown()"
   ]
  },
  {
   "cell_type": "markdown",
   "id": "4030a998-77bc-442a-8d41-dc3ca904c06b",
   "metadata": {
    "jp-MarkdownHeadingCollapsed": true
   },
   "source": [
    "## Z Coarse"
   ]
  },
  {
   "cell_type": "code",
   "execution_count": 40,
   "id": "8c6c5963-0122-421f-9416-d9a92ef0cfa4",
   "metadata": {},
   "outputs": [],
   "source": [
    "from app.drivers import ZaberDriver"
   ]
  },
  {
   "cell_type": "code",
   "execution_count": 41,
   "id": "fcfc892b-f486-479b-af41-76528d64a1ae",
   "metadata": {},
   "outputs": [],
   "source": [
    "z_coarse = ZaberDriver('/dev/ttyUSB1', 'z_coarse')\n",
    "z_coarse.initialise(config_dict={})"
   ]
  },
  {
   "cell_type": "code",
   "execution_count": 42,
   "id": "524d3564-6f8c-42d8-81ca-a223b17f34a2",
   "metadata": {},
   "outputs": [
    {
     "data": {
      "text/plain": [
       "15.843599250000013"
      ]
     },
     "execution_count": 42,
     "metadata": {},
     "output_type": "execute_result"
    }
   ],
   "source": [
    "z_coarse.get_position()"
   ]
  },
  {
   "cell_type": "code",
   "execution_count": 44,
   "id": "935bd592-de87-459e-9cd5-9d6760995d5b",
   "metadata": {},
   "outputs": [],
   "source": [
    "z_coarse.set_parameters(15.84)"
   ]
  },
  {
   "cell_type": "code",
   "execution_count": 45,
   "id": "9aba5db7-6f0b-4c48-94c0-3c8a5eb81655",
   "metadata": {},
   "outputs": [],
   "source": [
    "z_coarse.shutdown()"
   ]
  },
  {
   "cell_type": "markdown",
   "id": "9f22df28-5437-4519-86d0-b7f8b3e97956",
   "metadata": {
    "jp-MarkdownHeadingCollapsed": true
   },
   "source": [
    "## Temperature"
   ]
  },
  {
   "cell_type": "code",
   "execution_count": 30,
   "id": "bb549214-7762-4daa-95db-bf4f55e011b4",
   "metadata": {},
   "outputs": [],
   "source": [
    "from app.drivers import TC038Driver"
   ]
  },
  {
   "cell_type": "code",
   "execution_count": 1,
   "id": "b4a8bba1-8e50-4f21-91c6-ed54f0897a89",
   "metadata": {},
   "outputs": [],
   "source": [
    "# tc = TC038Driver('/dev/ttyUSB3')\n",
    "from pymeasure.instruments.hcp import TC038, TC038D"
   ]
  },
  {
   "cell_type": "code",
   "execution_count": 2,
   "id": "02bd47a3-1148-4fdc-aa02-8dc836c1ea13",
   "metadata": {},
   "outputs": [
    {
     "ename": "ValueError",
     "evalue": "'write_termination' is not a valid attribute for type Resource",
     "output_type": "error",
     "traceback": [
      "\u001b[0;31m---------------------------------------------------------------------------\u001b[0m",
      "\u001b[0;31mValueError\u001b[0m                                Traceback (most recent call last)",
      "Cell \u001b[0;32mIn[2], line 1\u001b[0m\n\u001b[0;32m----> 1\u001b[0m tc \u001b[38;5;241m=\u001b[39m \u001b[43mTC038\u001b[49m\u001b[43m(\u001b[49m\u001b[38;5;124;43m'\u001b[39;49m\u001b[38;5;124;43m/dev/ttyUSB3\u001b[39;49m\u001b[38;5;124;43m'\u001b[39;49m\u001b[43m)\u001b[49m\n",
      "File \u001b[0;32m~/quantum-sensing-auto-alignment/venv/lib/python3.12/site-packages/pymeasure/instruments/hcp/tc038.py:87\u001b[0m, in \u001b[0;36mTC038.__init__\u001b[0;34m(self, adapter, name, address, timeout, **kwargs)\u001b[0m\n\u001b[1;32m     85\u001b[0m \u001b[38;5;28;01mdef\u001b[39;00m \u001b[38;5;21m__init__\u001b[39m(\u001b[38;5;28mself\u001b[39m, adapter, name\u001b[38;5;241m=\u001b[39m\u001b[38;5;124m\"\u001b[39m\u001b[38;5;124mTC038\u001b[39m\u001b[38;5;124m\"\u001b[39m, address\u001b[38;5;241m=\u001b[39m\u001b[38;5;241m1\u001b[39m, timeout\u001b[38;5;241m=\u001b[39m\u001b[38;5;241m1000\u001b[39m,\n\u001b[1;32m     86\u001b[0m              \u001b[38;5;241m*\u001b[39m\u001b[38;5;241m*\u001b[39mkwargs):\n\u001b[0;32m---> 87\u001b[0m     \u001b[38;5;28;43msuper\u001b[39;49m\u001b[43m(\u001b[49m\u001b[43m)\u001b[49m\u001b[38;5;241;43m.\u001b[39;49m\u001b[38;5;21;43m__init__\u001b[39;49m\u001b[43m(\u001b[49m\n\u001b[1;32m     88\u001b[0m \u001b[43m        \u001b[49m\u001b[43madapter\u001b[49m\u001b[43m,\u001b[49m\n\u001b[1;32m     89\u001b[0m \u001b[43m        \u001b[49m\u001b[43mname\u001b[49m\u001b[43m,\u001b[49m\n\u001b[1;32m     90\u001b[0m \u001b[43m        \u001b[49m\u001b[43mtimeout\u001b[49m\u001b[38;5;241;43m=\u001b[39;49m\u001b[43mtimeout\u001b[49m\u001b[43m,\u001b[49m\n\u001b[1;32m     91\u001b[0m \u001b[43m        \u001b[49m\u001b[43mwrite_termination\u001b[49m\u001b[38;5;241;43m=\u001b[39;49m\u001b[38;5;124;43m\"\u001b[39;49m\u001b[38;5;130;43;01m\\r\u001b[39;49;00m\u001b[38;5;124;43m\"\u001b[39;49m\u001b[43m,\u001b[49m\n\u001b[1;32m     92\u001b[0m \u001b[43m        \u001b[49m\u001b[43mread_termination\u001b[49m\u001b[38;5;241;43m=\u001b[39;49m\u001b[38;5;124;43m\"\u001b[39;49m\u001b[38;5;130;43;01m\\r\u001b[39;49;00m\u001b[38;5;124;43m\"\u001b[39;49m\u001b[43m,\u001b[49m\n\u001b[1;32m     93\u001b[0m \u001b[43m        \u001b[49m\u001b[43mparity\u001b[49m\u001b[38;5;241;43m=\u001b[39;49m\u001b[43mParity\u001b[49m\u001b[38;5;241;43m.\u001b[39;49m\u001b[43meven\u001b[49m\u001b[43m,\u001b[49m\n\u001b[1;32m     94\u001b[0m \u001b[43m        \u001b[49m\u001b[43mincludeSCPI\u001b[49m\u001b[38;5;241;43m=\u001b[39;49m\u001b[38;5;28;43;01mFalse\u001b[39;49;00m\u001b[43m,\u001b[49m\n\u001b[1;32m     95\u001b[0m \u001b[43m        \u001b[49m\u001b[38;5;241;43m*\u001b[39;49m\u001b[38;5;241;43m*\u001b[39;49m\u001b[43mkwargs\u001b[49m\u001b[43m,\u001b[49m\n\u001b[1;32m     96\u001b[0m \u001b[43m    \u001b[49m\u001b[43m)\u001b[49m\n\u001b[1;32m     97\u001b[0m     \u001b[38;5;28mself\u001b[39m\u001b[38;5;241m.\u001b[39maddress \u001b[38;5;241m=\u001b[39m address\n\u001b[1;32m     99\u001b[0m     \u001b[38;5;28mself\u001b[39m\u001b[38;5;241m.\u001b[39mset_monitored_quantity()\n",
      "File \u001b[0;32m~/quantum-sensing-auto-alignment/venv/lib/python3.12/site-packages/pymeasure/instruments/instrument.py:86\u001b[0m, in \u001b[0;36mInstrument.__init__\u001b[0;34m(self, adapter, name, includeSCPI, preprocess_reply, **kwargs)\u001b[0m\n\u001b[1;32m     84\u001b[0m \u001b[38;5;28;01mif\u001b[39;00m \u001b[38;5;28misinstance\u001b[39m(adapter, (\u001b[38;5;28mint\u001b[39m, \u001b[38;5;28mstr\u001b[39m)):\n\u001b[1;32m     85\u001b[0m     \u001b[38;5;28;01mtry\u001b[39;00m:\n\u001b[0;32m---> 86\u001b[0m         adapter \u001b[38;5;241m=\u001b[39m \u001b[43mVISAAdapter\u001b[49m\u001b[43m(\u001b[49m\u001b[43madapter\u001b[49m\u001b[43m,\u001b[49m\u001b[43m \u001b[49m\u001b[38;5;241;43m*\u001b[39;49m\u001b[38;5;241;43m*\u001b[39;49m\u001b[43mkwargs\u001b[49m\u001b[43m)\u001b[49m\n\u001b[1;32m     87\u001b[0m     \u001b[38;5;28;01mexcept\u001b[39;00m \u001b[38;5;167;01mImportError\u001b[39;00m:\n\u001b[1;32m     88\u001b[0m         \u001b[38;5;28;01mraise\u001b[39;00m \u001b[38;5;167;01mException\u001b[39;00m(\u001b[38;5;124m\"\u001b[39m\u001b[38;5;124mInvalid Adapter provided for Instrument since\u001b[39m\u001b[38;5;124m\"\u001b[39m\n\u001b[1;32m     89\u001b[0m                         \u001b[38;5;124m\"\u001b[39m\u001b[38;5;124m PyVISA is not present\u001b[39m\u001b[38;5;124m\"\u001b[39m)\n",
      "File \u001b[0;32m~/quantum-sensing-auto-alignment/venv/lib/python3.12/site-packages/pymeasure/adapters/visa.py:126\u001b[0m, in \u001b[0;36mVISAAdapter.__init__\u001b[0;34m(self, resource_name, visa_library, preprocess_reply, query_delay, log, **kwargs)\u001b[0m\n\u001b[1;32m    123\u001b[0m                 kwargs\u001b[38;5;241m.\u001b[39msetdefault(k, v)\n\u001b[1;32m    124\u001b[0m         \u001b[38;5;28;01mdel\u001b[39;00m kwargs[key]\n\u001b[0;32m--> 126\u001b[0m \u001b[38;5;28mself\u001b[39m\u001b[38;5;241m.\u001b[39mconnection \u001b[38;5;241m=\u001b[39m \u001b[38;5;28;43mself\u001b[39;49m\u001b[38;5;241;43m.\u001b[39;49m\u001b[43mmanager\u001b[49m\u001b[38;5;241;43m.\u001b[39;49m\u001b[43mopen_resource\u001b[49m\u001b[43m(\u001b[49m\n\u001b[1;32m    127\u001b[0m \u001b[43m    \u001b[49m\u001b[43mresource_name\u001b[49m\u001b[43m,\u001b[49m\n\u001b[1;32m    128\u001b[0m \u001b[43m    \u001b[49m\u001b[38;5;241;43m*\u001b[39;49m\u001b[38;5;241;43m*\u001b[39;49m\u001b[43mkwargs\u001b[49m\n\u001b[1;32m    129\u001b[0m \u001b[43m\u001b[49m\u001b[43m)\u001b[49m\n",
      "File \u001b[0;32m~/quantum-sensing-auto-alignment/venv/lib/python3.12/site-packages/pyvisa/highlevel.py:3287\u001b[0m, in \u001b[0;36mResourceManager.open_resource\u001b[0;34m(self, resource_name, access_mode, open_timeout, resource_pyclass, **kwargs)\u001b[0m\n\u001b[1;32m   3284\u001b[0m         present \u001b[38;5;241m=\u001b[39m \u001b[38;5;28;01mTrue\u001b[39;00m\n\u001b[1;32m   3286\u001b[0m     \u001b[38;5;28;01mif\u001b[39;00m \u001b[38;5;129;01mnot\u001b[39;00m present:\n\u001b[0;32m-> 3287\u001b[0m         \u001b[38;5;28;01mraise\u001b[39;00m \u001b[38;5;167;01mValueError\u001b[39;00m(\n\u001b[1;32m   3288\u001b[0m             \u001b[38;5;124m\"\u001b[39m\u001b[38;5;132;01m%r\u001b[39;00m\u001b[38;5;124m is not a valid attribute for type \u001b[39m\u001b[38;5;132;01m%s\u001b[39;00m\u001b[38;5;124m\"\u001b[39m\n\u001b[1;32m   3289\u001b[0m             \u001b[38;5;241m%\u001b[39m (key, res\u001b[38;5;241m.\u001b[39m\u001b[38;5;18m__class__\u001b[39m\u001b[38;5;241m.\u001b[39m\u001b[38;5;18m__name__\u001b[39m)\n\u001b[1;32m   3290\u001b[0m         )\n\u001b[1;32m   3292\u001b[0m res\u001b[38;5;241m.\u001b[39mopen(access_mode, open_timeout)\n\u001b[1;32m   3294\u001b[0m \u001b[38;5;28;01mfor\u001b[39;00m key, value \u001b[38;5;129;01min\u001b[39;00m kwargs\u001b[38;5;241m.\u001b[39mitems():\n",
      "\u001b[0;31mValueError\u001b[0m: 'write_termination' is not a valid attribute for type Resource"
     ]
    }
   ],
   "source": [
    "tc = TC038('/dev/ttyUSB3')"
   ]
  },
  {
   "cell_type": "code",
   "execution_count": null,
   "id": "1bd2456b-86f3-4a0a-878c-4afff26681be",
   "metadata": {},
   "outputs": [],
   "source": []
  },
  {
   "cell_type": "markdown",
   "id": "2014914c-3d1e-4293-a315-29defe5adfc9",
   "metadata": {
    "jp-MarkdownHeadingCollapsed": true
   },
   "source": [
    "# Interface"
   ]
  },
  {
   "cell_type": "code",
   "execution_count": 1,
   "id": "a6ac1175-db15-4465-b9e6-576cb509c92c",
   "metadata": {},
   "outputs": [],
   "source": [
    "from app.interface import QuantumImaging"
   ]
  },
  {
   "cell_type": "code",
   "execution_count": 2,
   "id": "29d6958d-9d7c-45fa-bb0e-71623b7932ec",
   "metadata": {},
   "outputs": [],
   "source": [
    "qint = QuantumImaging()"
   ]
  },
  {
   "cell_type": "code",
   "execution_count": 4,
   "id": "56fc714e-27df-48d7-b91f-d0153815f5c6",
   "metadata": {},
   "outputs": [
    {
     "name": "stderr",
     "output_type": "stream",
     "text": [
      "No camera settings provided. Using defaults.\n"
     ]
    },
    {
     "data": {
      "text/plain": [
       "True"
      ]
     },
     "execution_count": 4,
     "metadata": {},
     "output_type": "execute_result"
    }
   ],
   "source": [
    "qint.run_initialisation({'init_params': [0, 0, 0, 15.48]})"
   ]
  },
  {
   "cell_type": "code",
   "execution_count": 5,
   "id": "7c2ca7de-165e-4b54-9255-7d8e1eb708fe",
   "metadata": {},
   "outputs": [
    {
     "data": {
      "text/plain": [
       "dict_keys(['longitudinal', 'lateral', 'sig_arm_horz', 'sig_arm_vert', 'idler_shutter', 'z_coarse', 'z_fine', 'HWP'])"
      ]
     },
     "execution_count": 5,
     "metadata": {},
     "output_type": "execute_result"
    }
   ],
   "source": [
    "qint.actuator_list.keys()"
   ]
  },
  {
   "cell_type": "code",
   "execution_count": 10,
   "id": "a1f8f94c-4829-4d5c-82a6-008a01cd5352",
   "metadata": {},
   "outputs": [],
   "source": [
    "qint.actuator_list['longitudinal'].set_parameters(0)"
   ]
  },
  {
   "cell_type": "code",
   "execution_count": 28,
   "id": "6b6e9b4f-a180-4a2e-af95-3d47251ca068",
   "metadata": {},
   "outputs": [],
   "source": [
    "qint.shutdown()"
   ]
  },
  {
   "cell_type": "markdown",
   "id": "492047d9-a502-40e9-8e3a-0a87efdc4b17",
   "metadata": {
    "jp-MarkdownHeadingCollapsed": true
   },
   "source": [
    "# ROI Testing"
   ]
  },
  {
   "cell_type": "code",
   "execution_count": 21,
   "id": "19bb1488-f216-40d5-8019-6f65998e245e",
   "metadata": {},
   "outputs": [],
   "source": [
    "from utils.cost_tools import *\n",
    "import matplotlib.pyplot as plt\n",
    "import h5py\n",
    "def _cost(img, dark_img, get_scale=False, scale=(1, 1)):\n",
    "        # Find global FOV\n",
    "        # radii_range = (90, 100)\n",
    "        # center, radius = find_circular_FOV(dark_img, radii_range)\n",
    "        # center = (0, 0)\n",
    "        # radius = 0\n",
    "\n",
    "        radius = 48.157894736842\n",
    "        center = (88.3158197, 109.52483491)\n",
    "\n",
    "        # define the bounds\n",
    "        edge_px = 5\n",
    "        ymin = int(center[1] - radius - edge_px)\n",
    "        ymax = int(center[1] + radius + edge_px)\n",
    "        xmin = int(center[1] - radius - edge_px)\n",
    "        xmax = int(center[1] + radius + edge_px)\n",
    "        height, width = dark_img.shape\n",
    "\n",
    "        # crop the images\n",
    "        cropped_imgs = img[:, ymin:ymax, xmin:xmax]\n",
    "        cropped_dark_img = dark_img[ymin:ymax, xmin:xmax]\n",
    "        cropped_height, cropped_width = cropped_dark_img.shape\n",
    "\n",
    "        # create a mask\n",
    "        mask = create_circular_mask(height, width, center=center, radius=radius)\n",
    "        cropped_mask = mask[ymin:ymax, xmin:xmax]\n",
    "\n",
    "        # take a fft along the sample dimension (dim 0)\n",
    "        which_axis_fft = 0\n",
    "        fft = np.abs(np.fft.rfft(cropped_imgs, axis=which_axis_fft, norm='forward'))\n",
    "\n",
    "        # get the DC component and Amplitude\n",
    "        DC_fft = fft[0]  # Smart slicing\n",
    "        Amplitude_fft = 2 * np.max(fft[1:], axis=which_axis_fft)\n",
    "\n",
    "        # calculate visibility\n",
    "        Visibility_raw = Amplitude_fft / DC_fft\n",
    "\n",
    "        # Mask Visibility image to FOV\n",
    "        Visibility = np.ma.masked_array(Visibility_raw, mask=cropped_mask)\n",
    "        Visibility = np.ma.filled(Visibility, fill_value=0)\n",
    "\n",
    "        # hard coded ROI\n",
    "        # ROI_radius = 48.157894736842\n",
    "        # ROI = (88.3158197, 109.52483491)\n",
    "\n",
    "        # mask the images\n",
    "        ROI_mask_small = create_circular_mask(cropped_height, cropped_width, center=np.flip(center), radius=radius)\n",
    "        ROI_mask_big = create_circular_mask(height, width, center=np.flip(center), radius=radius)\n",
    "\n",
    "        # camera settings\n",
    "        Camera_bit_depth = 16\n",
    "        Camera_max_value = 2 ** Camera_bit_depth - 1\n",
    "\n",
    "        Visibility_ROI = np.ma.masked_array(Visibility, mask=ROI_mask_small)\n",
    "        Dark_img_ROI = np.ma.masked_array(dark_img, mask=ROI_mask_big)\n",
    "\n",
    "        # calculate cost components\n",
    "        Cost_average = np.ma.sum(Dark_img_ROI) / (Dark_img_ROI.count() * Camera_max_value)\n",
    "        Weight_average = 10**-scale[0]\n",
    "\n",
    "        Cost_visibility = np.ma.average(Visibility_ROI)\n",
    "        Weight_visibility = 10**-scale[1]\n",
    "\n",
    "        cost = - (Weight_average * Cost_average + Weight_visibility * Cost_visibility)\n",
    "\n",
    "        return Cost_average, Cost_visibility"
   ]
  },
  {
   "cell_type": "code",
   "execution_count": 13,
   "id": "61834f2c-d551-4f5d-a47d-84947c0e33e5",
   "metadata": {},
   "outputs": [
    {
     "name": "stdout",
     "output_type": "stream",
     "text": [
      "<KeysViewHDF5 ['run_0', 'run_1', 'run_10', 'run_100', 'run_101', 'run_102', 'run_103', 'run_104', 'run_105', 'run_106', 'run_107', 'run_108', 'run_109', 'run_11', 'run_12', 'run_13', 'run_14', 'run_15', 'run_16', 'run_17', 'run_18', 'run_19', 'run_2', 'run_20', 'run_21', 'run_22', 'run_23', 'run_24', 'run_25', 'run_26', 'run_27', 'run_28', 'run_29', 'run_3', 'run_30', 'run_31', 'run_32', 'run_33', 'run_34', 'run_35', 'run_36', 'run_37', 'run_38', 'run_39', 'run_4', 'run_40', 'run_41', 'run_42', 'run_43', 'run_44', 'run_45', 'run_46', 'run_47', 'run_48', 'run_49', 'run_5', 'run_50', 'run_51', 'run_52', 'run_53', 'run_54', 'run_55', 'run_56', 'run_57', 'run_58', 'run_59', 'run_6', 'run_60', 'run_61', 'run_62', 'run_63', 'run_64', 'run_65', 'run_66', 'run_67', 'run_68', 'run_69', 'run_7', 'run_70', 'run_71', 'run_72', 'run_73', 'run_74', 'run_75', 'run_76', 'run_77', 'run_78', 'run_79', 'run_8', 'run_80', 'run_81', 'run_82', 'run_83', 'run_84', 'run_85', 'run_86', 'run_87', 'run_88', 'run_89', 'run_9', 'run_90', 'run_91', 'run_92', 'run_93', 'run_94', 'run_95', 'run_96', 'run_97', 'run_98', 'run_99']>\n"
     ]
    }
   ],
   "source": [
    "df = h5py.File('./data/sampling_20241114.h5', 'r')\n",
    "print(df.keys())"
   ]
  },
  {
   "cell_type": "code",
   "execution_count": 15,
   "id": "11835361-e4a4-4d42-a822-61665955a89d",
   "metadata": {},
   "outputs": [],
   "source": [
    "# df['run_0'].keys()\n",
    "img_arr = df['run_0']['fringes']\n",
    "dark_img = df['run_0']['dark_img']"
   ]
  },
  {
   "cell_type": "code",
   "execution_count": 26,
   "id": "fdaed11e-95d1-44b3-81c7-2b381f8c7df2",
   "metadata": {},
   "outputs": [
    {
     "data": {
      "text/plain": [
       "(0.002280274798141617, 0.011301652088411454)"
      ]
     },
     "execution_count": 26,
     "metadata": {},
     "output_type": "execute_result"
    }
   ],
   "source": [
    "_cost(img_arr, dark_img)"
   ]
  },
  {
   "cell_type": "markdown",
   "id": "a190d85f-3baa-42d1-af1d-a417db28ad39",
   "metadata": {},
   "source": [
    "# Serial Testing"
   ]
  },
  {
   "cell_type": "code",
   "execution_count": 1,
   "id": "afd3b7bc-683d-43c6-9cfb-2a33e32053e3",
   "metadata": {},
   "outputs": [],
   "source": [
    "from app.drivers import TC038Driver\n",
    "import logging\n",
    "# from instruments.util_fns import split_unit_str"
   ]
  },
  {
   "cell_type": "code",
   "execution_count": 2,
   "id": "e23fe638-0a62-4ade-a4bd-98d1e6198e80",
   "metadata": {},
   "outputs": [],
   "source": [
    "tc = TC038Driver('/dev/ttyUSB3')"
   ]
  },
  {
   "cell_type": "code",
   "execution_count": 3,
   "id": "bcfa48b1-0e0a-445c-9b78-608a6150401f",
   "metadata": {},
   "outputs": [
    {
     "name": "stdout",
     "output_type": "stream",
     "text": [
      "Current T:62.0 - Set T:63.0 - obs:0\n",
      "Current T:62.0 - Set T:63.0 - obs:0\n",
      "Current T:62.0 - Set T:63.0 - obs:0\n",
      "Current T:62.1 - Set T:63.0 - obs:0\n",
      "Current T:62.2 - Set T:63.0 - obs:0\n",
      "Current T:62.3 - Set T:63.0 - obs:0\n",
      "Current T:62.6 - Set T:63.0 - obs:0\n",
      "Current T:62.8 - Set T:63.0 - obs:0\n",
      "Current T:63.0 - Set T:63.0 - obs:0\n",
      "Current T:63.3 - Set T:63.0 - obs:1\n",
      "Current T:63.4 - Set T:63.0 - obs:1\n",
      "Current T:63.5 - Set T:63.0 - obs:1\n",
      "Current T:63.5 - Set T:63.0 - obs:1\n",
      "Current T:63.4 - Set T:63.0 - obs:1\n",
      "Current T:63.3 - Set T:63.0 - obs:1\n",
      "Current T:63.2 - Set T:63.0 - obs:1\n",
      "Current T:63.2 - Set T:63.0 - obs:1\n",
      "Current T:63.1 - Set T:63.0 - obs:1\n",
      "Current T:63.0 - Set T:63.0 - obs:1\n",
      "Current T:63.0 - Set T:63.0 - obs:2\n",
      "Current T:63.0 - Set T:63.0 - obs:3\n",
      "Current T:63.1 - Set T:63.0 - obs:4\n",
      "Current T:63.1 - Set T:63.0 - obs:4\n",
      "Current T:63.2 - Set T:63.0 - obs:4\n",
      "Current T:63.2 - Set T:63.0 - obs:4\n",
      "Current T:63.2 - Set T:63.0 - obs:4\n",
      "Current T:63.1 - Set T:63.0 - obs:4\n",
      "Current T:63.1 - Set T:63.0 - obs:4\n",
      "Current T:63.1 - Set T:63.0 - obs:4\n",
      "Current T:63.1 - Set T:63.0 - obs:4\n",
      "Current T:63.0 - Set T:63.0 - obs:4\n"
     ]
    }
   ],
   "source": [
    "tc.change_temp(63)"
   ]
  },
  {
   "cell_type": "code",
   "execution_count": null,
   "id": "32a4481f-a2b0-4036-bc4f-9cedf090b886",
   "metadata": {},
   "outputs": [],
   "source": []
  },
  {
   "cell_type": "markdown",
   "id": "2578a54f-2a53-428c-a7d7-049b7ab98c37",
   "metadata": {
    "jp-MarkdownHeadingCollapsed": true
   },
   "source": [
    "# OLD"
   ]
  },
  {
   "cell_type": "code",
   "execution_count": 90,
   "id": "842f8ea2-c080-41a5-a30d-a9b0c6ec1028",
   "metadata": {},
   "outputs": [],
   "source": [
    "# qi.shutdown()\n",
    "# import tables\n",
    "# tables.file._open_files.close_all()\n",
    "import h5py\n",
    "import numpy as np\n",
    "import matplotlib.pyplot as plt"
   ]
  },
  {
   "cell_type": "code",
   "execution_count": 103,
   "id": "c435d522-19ea-47e0-bd6e-91b248be7006",
   "metadata": {},
   "outputs": [],
   "source": [
    "df =  h5py.File('./data/sampling_jena_good.h5', 'r')\n",
    "# df.close()"
   ]
  },
  {
   "cell_type": "code",
   "execution_count": 104,
   "id": "8c441fda-6141-41a8-b5de-fd85eafea7c4",
   "metadata": {},
   "outputs": [
    {
     "name": "stdout",
     "output_type": "stream",
     "text": [
      "<KeysViewHDF5 ['run_0', 'run_1', 'run_10', 'run_100', 'run_101', 'run_102', 'run_103', 'run_104', 'run_105', 'run_106', 'run_107', 'run_108', 'run_109', 'run_11', 'run_12', 'run_13', 'run_14', 'run_15', 'run_16', 'run_17', 'run_18', 'run_19', 'run_2', 'run_20', 'run_21', 'run_22', 'run_23', 'run_24', 'run_25', 'run_26', 'run_27', 'run_28', 'run_29', 'run_3', 'run_30', 'run_31', 'run_32', 'run_33', 'run_34', 'run_35', 'run_36', 'run_37', 'run_38', 'run_39', 'run_4', 'run_40', 'run_41', 'run_42', 'run_43', 'run_44', 'run_45', 'run_46', 'run_47', 'run_48', 'run_49', 'run_5', 'run_50', 'run_51', 'run_52', 'run_53', 'run_54', 'run_55', 'run_56', 'run_57', 'run_58', 'run_59', 'run_6', 'run_60', 'run_61', 'run_62', 'run_63', 'run_64', 'run_65', 'run_66', 'run_67', 'run_68', 'run_69', 'run_7', 'run_70', 'run_71', 'run_72', 'run_73', 'run_74', 'run_75', 'run_76', 'run_77', 'run_78', 'run_79', 'run_8', 'run_80', 'run_81', 'run_82', 'run_83', 'run_84', 'run_85', 'run_86', 'run_87', 'run_88', 'run_89', 'run_9', 'run_90', 'run_91', 'run_92', 'run_93', 'run_94', 'run_95', 'run_96', 'run_97', 'run_98', 'run_99']>\n"
     ]
    }
   ],
   "source": [
    "print(df.keys())"
   ]
  },
  {
   "cell_type": "code",
   "execution_count": 122,
   "id": "a3cc64d0-2193-4d9e-8c48-7df9b6c16446",
   "metadata": {},
   "outputs": [
    {
     "name": "stdout",
     "output_type": "stream",
     "text": [
      "<KeysViewHDF5 ['dark_img', 'fringes', 'params']>\n"
     ]
    },
    {
     "data": {
      "text/plain": [
       "<matplotlib.colorbar.Colorbar at 0x7a061c4ca330>"
      ]
     },
     "execution_count": 122,
     "metadata": {},
     "output_type": "execute_result"
    },
    {
     "data": {
      "image/png": "[encoded data removed]",
      "text/plain": [
       "<Figure size 640x480 with 2 Axes>"
      ]
     },
     "metadata": {},
     "output_type": "display_data"
    }
   ],
   "source": [
    "print(df['run_0'].keys())\n",
    "imgs = df['run_0']['fringes']\n",
    "roi = [70, 200, 65, 190]\n",
    "center = [65, 65]\n",
    "\n",
    "dark_img = df['run_0']['dark_img']\n",
    "# plt.imshow(dark_img)\n",
    "plt.imshow(imgs[0][roi[0]:roi[1], roi[2]:roi[3]], vmax=800)\n",
    "plt.plot(*center, '.r')\n",
    "plt.colorbar()"
   ]
  },
  {
   "cell_type": "code",
   "execution_count": 124,
   "id": "56b1c994-e5bc-494c-952a-78dc126d4b0e",
   "metadata": {},
   "outputs": [
    {
     "name": "stdout",
     "output_type": "stream",
     "text": [
      "(11, 250, 250)\n"
     ]
    }
   ],
   "source": [
    "visibility = np.fft.rfft(imgs, axis=0)\n",
    "print(visibility.shape)"
   ]
  },
  {
   "cell_type": "code",
   "execution_count": 127,
   "id": "c2084fa9-00cd-4fdb-89ff-9c93d07e48c3",
   "metadata": {},
   "outputs": [
    {
     "ename": "TypeError",
     "evalue": "Invalid shape (11, 250, 250) for image data",
     "output_type": "error",
     "traceback": [
      "\u001b[0;31m---------------------------------------------------------------------------\u001b[0m",
      "\u001b[0;31mTypeError\u001b[0m                                 Traceback (most recent call last)",
      "Cell \u001b[0;32mIn[127], line 1\u001b[0m\n\u001b[0;32m----> 1\u001b[0m \u001b[43mplt\u001b[49m\u001b[38;5;241;43m.\u001b[39;49m\u001b[43mimshow\u001b[49m\u001b[43m(\u001b[49m\u001b[43mnp\u001b[49m\u001b[38;5;241;43m.\u001b[39;49m\u001b[43mabs\u001b[49m\u001b[43m(\u001b[49m\u001b[43mvisibility\u001b[49m\u001b[43m)\u001b[49m\u001b[43m)\u001b[49m\n",
      "File \u001b[0;32m~/quantum-sensing-auto-alignment/venv/lib/python3.12/site-packages/matplotlib/pyplot.py:3562\u001b[0m, in \u001b[0;36mimshow\u001b[0;34m(X, cmap, norm, aspect, interpolation, alpha, vmin, vmax, origin, extent, interpolation_stage, filternorm, filterrad, resample, url, data, **kwargs)\u001b[0m\n\u001b[1;32m   3541\u001b[0m \u001b[38;5;129m@_copy_docstring_and_deprecators\u001b[39m(Axes\u001b[38;5;241m.\u001b[39mimshow)\n\u001b[1;32m   3542\u001b[0m \u001b[38;5;28;01mdef\u001b[39;00m \u001b[38;5;21mimshow\u001b[39m(\n\u001b[1;32m   3543\u001b[0m     X: ArrayLike \u001b[38;5;241m|\u001b[39m PIL\u001b[38;5;241m.\u001b[39mImage\u001b[38;5;241m.\u001b[39mImage,\n\u001b[0;32m   (...)\u001b[0m\n\u001b[1;32m   3560\u001b[0m     \u001b[38;5;241m*\u001b[39m\u001b[38;5;241m*\u001b[39mkwargs,\n\u001b[1;32m   3561\u001b[0m ) \u001b[38;5;241m-\u001b[39m\u001b[38;5;241m>\u001b[39m AxesImage:\n\u001b[0;32m-> 3562\u001b[0m     __ret \u001b[38;5;241m=\u001b[39m \u001b[43mgca\u001b[49m\u001b[43m(\u001b[49m\u001b[43m)\u001b[49m\u001b[38;5;241;43m.\u001b[39;49m\u001b[43mimshow\u001b[49m\u001b[43m(\u001b[49m\n\u001b[1;32m   3563\u001b[0m \u001b[43m        \u001b[49m\u001b[43mX\u001b[49m\u001b[43m,\u001b[49m\n\u001b[1;32m   3564\u001b[0m \u001b[43m        \u001b[49m\u001b[43mcmap\u001b[49m\u001b[38;5;241;43m=\u001b[39;49m\u001b[43mcmap\u001b[49m\u001b[43m,\u001b[49m\n\u001b[1;32m   3565\u001b[0m \u001b[43m        \u001b[49m\u001b[43mnorm\u001b[49m\u001b[38;5;241;43m=\u001b[39;49m\u001b[43mnorm\u001b[49m\u001b[43m,\u001b[49m\n\u001b[1;32m   3566\u001b[0m \u001b[43m        \u001b[49m\u001b[43maspect\u001b[49m\u001b[38;5;241;43m=\u001b[39;49m\u001b[43maspect\u001b[49m\u001b[43m,\u001b[49m\n\u001b[1;32m   3567\u001b[0m \u001b[43m        \u001b[49m\u001b[43minterpolation\u001b[49m\u001b[38;5;241;43m=\u001b[39;49m\u001b[43minterpolation\u001b[49m\u001b[43m,\u001b[49m\n\u001b[1;32m   3568\u001b[0m \u001b[43m        \u001b[49m\u001b[43malpha\u001b[49m\u001b[38;5;241;43m=\u001b[39;49m\u001b[43malpha\u001b[49m\u001b[43m,\u001b[49m\n\u001b[1;32m   3569\u001b[0m \u001b[43m        \u001b[49m\u001b[43mvmin\u001b[49m\u001b[38;5;241;43m=\u001b[39;49m\u001b[43mvmin\u001b[49m\u001b[43m,\u001b[49m\n\u001b[1;32m   3570\u001b[0m \u001b[43m        \u001b[49m\u001b[43mvmax\u001b[49m\u001b[38;5;241;43m=\u001b[39;49m\u001b[43mvmax\u001b[49m\u001b[43m,\u001b[49m\n\u001b[1;32m   3571\u001b[0m \u001b[43m        \u001b[49m\u001b[43morigin\u001b[49m\u001b[38;5;241;43m=\u001b[39;49m\u001b[43morigin\u001b[49m\u001b[43m,\u001b[49m\n\u001b[1;32m   3572\u001b[0m \u001b[43m        \u001b[49m\u001b[43mextent\u001b[49m\u001b[38;5;241;43m=\u001b[39;49m\u001b[43mextent\u001b[49m\u001b[43m,\u001b[49m\n\u001b[1;32m   3573\u001b[0m \u001b[43m        \u001b[49m\u001b[43minterpolation_stage\u001b[49m\u001b[38;5;241;43m=\u001b[39;49m\u001b[43minterpolation_stage\u001b[49m\u001b[43m,\u001b[49m\n\u001b[1;32m   3574\u001b[0m \u001b[43m        \u001b[49m\u001b[43mfilternorm\u001b[49m\u001b[38;5;241;43m=\u001b[39;49m\u001b[43mfilternorm\u001b[49m\u001b[43m,\u001b[49m\n\u001b[1;32m   3575\u001b[0m \u001b[43m        \u001b[49m\u001b[43mfilterrad\u001b[49m\u001b[38;5;241;43m=\u001b[39;49m\u001b[43mfilterrad\u001b[49m\u001b[43m,\u001b[49m\n\u001b[1;32m   3576\u001b[0m \u001b[43m        \u001b[49m\u001b[43mresample\u001b[49m\u001b[38;5;241;43m=\u001b[39;49m\u001b[43mresample\u001b[49m\u001b[43m,\u001b[49m\n\u001b[1;32m   3577\u001b[0m \u001b[43m        \u001b[49m\u001b[43murl\u001b[49m\u001b[38;5;241;43m=\u001b[39;49m\u001b[43murl\u001b[49m\u001b[43m,\u001b[49m\n\u001b[1;32m   3578\u001b[0m \u001b[43m        \u001b[49m\u001b[38;5;241;43m*\u001b[39;49m\u001b[38;5;241;43m*\u001b[39;49m\u001b[43m(\u001b[49m\u001b[43m{\u001b[49m\u001b[38;5;124;43m\"\u001b[39;49m\u001b[38;5;124;43mdata\u001b[39;49m\u001b[38;5;124;43m\"\u001b[39;49m\u001b[43m:\u001b[49m\u001b[43m \u001b[49m\u001b[43mdata\u001b[49m\u001b[43m}\u001b[49m\u001b[43m \u001b[49m\u001b[38;5;28;43;01mif\u001b[39;49;00m\u001b[43m \u001b[49m\u001b[43mdata\u001b[49m\u001b[43m \u001b[49m\u001b[38;5;129;43;01mis\u001b[39;49;00m\u001b[43m \u001b[49m\u001b[38;5;129;43;01mnot\u001b[39;49;00m\u001b[43m \u001b[49m\u001b[38;5;28;43;01mNone\u001b[39;49;00m\u001b[43m \u001b[49m\u001b[38;5;28;43;01melse\u001b[39;49;00m\u001b[43m \u001b[49m\u001b[43m{\u001b[49m\u001b[43m}\u001b[49m\u001b[43m)\u001b[49m\u001b[43m,\u001b[49m\n\u001b[1;32m   3579\u001b[0m \u001b[43m        \u001b[49m\u001b[38;5;241;43m*\u001b[39;49m\u001b[38;5;241;43m*\u001b[39;49m\u001b[43mkwargs\u001b[49m\u001b[43m,\u001b[49m\n\u001b[1;32m   3580\u001b[0m \u001b[43m    \u001b[49m\u001b[43m)\u001b[49m\n\u001b[1;32m   3581\u001b[0m     sci(__ret)\n\u001b[1;32m   3582\u001b[0m     \u001b[38;5;28;01mreturn\u001b[39;00m __ret\n",
      "File \u001b[0;32m~/quantum-sensing-auto-alignment/venv/lib/python3.12/site-packages/matplotlib/__init__.py:1473\u001b[0m, in \u001b[0;36m_preprocess_data.<locals>.inner\u001b[0;34m(ax, data, *args, **kwargs)\u001b[0m\n\u001b[1;32m   1470\u001b[0m \u001b[38;5;129m@functools\u001b[39m\u001b[38;5;241m.\u001b[39mwraps(func)\n\u001b[1;32m   1471\u001b[0m \u001b[38;5;28;01mdef\u001b[39;00m \u001b[38;5;21minner\u001b[39m(ax, \u001b[38;5;241m*\u001b[39margs, data\u001b[38;5;241m=\u001b[39m\u001b[38;5;28;01mNone\u001b[39;00m, \u001b[38;5;241m*\u001b[39m\u001b[38;5;241m*\u001b[39mkwargs):\n\u001b[1;32m   1472\u001b[0m     \u001b[38;5;28;01mif\u001b[39;00m data \u001b[38;5;129;01mis\u001b[39;00m \u001b[38;5;28;01mNone\u001b[39;00m:\n\u001b[0;32m-> 1473\u001b[0m         \u001b[38;5;28;01mreturn\u001b[39;00m \u001b[43mfunc\u001b[49m\u001b[43m(\u001b[49m\n\u001b[1;32m   1474\u001b[0m \u001b[43m            \u001b[49m\u001b[43max\u001b[49m\u001b[43m,\u001b[49m\n\u001b[1;32m   1475\u001b[0m \u001b[43m            \u001b[49m\u001b[38;5;241;43m*\u001b[39;49m\u001b[38;5;28;43mmap\u001b[39;49m\u001b[43m(\u001b[49m\u001b[43msanitize_sequence\u001b[49m\u001b[43m,\u001b[49m\u001b[43m \u001b[49m\u001b[43margs\u001b[49m\u001b[43m)\u001b[49m\u001b[43m,\u001b[49m\n\u001b[1;32m   1476\u001b[0m \u001b[43m            \u001b[49m\u001b[38;5;241;43m*\u001b[39;49m\u001b[38;5;241;43m*\u001b[39;49m\u001b[43m{\u001b[49m\u001b[43mk\u001b[49m\u001b[43m:\u001b[49m\u001b[43m \u001b[49m\u001b[43msanitize_sequence\u001b[49m\u001b[43m(\u001b[49m\u001b[43mv\u001b[49m\u001b[43m)\u001b[49m\u001b[43m \u001b[49m\u001b[38;5;28;43;01mfor\u001b[39;49;00m\u001b[43m \u001b[49m\u001b[43mk\u001b[49m\u001b[43m,\u001b[49m\u001b[43m \u001b[49m\u001b[43mv\u001b[49m\u001b[43m \u001b[49m\u001b[38;5;129;43;01min\u001b[39;49;00m\u001b[43m \u001b[49m\u001b[43mkwargs\u001b[49m\u001b[38;5;241;43m.\u001b[39;49m\u001b[43mitems\u001b[49m\u001b[43m(\u001b[49m\u001b[43m)\u001b[49m\u001b[43m}\u001b[49m\u001b[43m)\u001b[49m\n\u001b[1;32m   1478\u001b[0m     bound \u001b[38;5;241m=\u001b[39m new_sig\u001b[38;5;241m.\u001b[39mbind(ax, \u001b[38;5;241m*\u001b[39margs, \u001b[38;5;241m*\u001b[39m\u001b[38;5;241m*\u001b[39mkwargs)\n\u001b[1;32m   1479\u001b[0m     auto_label \u001b[38;5;241m=\u001b[39m (bound\u001b[38;5;241m.\u001b[39marguments\u001b[38;5;241m.\u001b[39mget(label_namer)\n\u001b[1;32m   1480\u001b[0m                   \u001b[38;5;129;01mor\u001b[39;00m bound\u001b[38;5;241m.\u001b[39mkwargs\u001b[38;5;241m.\u001b[39mget(label_namer))\n",
      "File \u001b[0;32m~/quantum-sensing-auto-alignment/venv/lib/python3.12/site-packages/matplotlib/axes/_axes.py:5895\u001b[0m, in \u001b[0;36mAxes.imshow\u001b[0;34m(self, X, cmap, norm, aspect, interpolation, alpha, vmin, vmax, origin, extent, interpolation_stage, filternorm, filterrad, resample, url, **kwargs)\u001b[0m\n\u001b[1;32m   5892\u001b[0m \u001b[38;5;28;01mif\u001b[39;00m aspect \u001b[38;5;129;01mis\u001b[39;00m \u001b[38;5;129;01mnot\u001b[39;00m \u001b[38;5;28;01mNone\u001b[39;00m:\n\u001b[1;32m   5893\u001b[0m     \u001b[38;5;28mself\u001b[39m\u001b[38;5;241m.\u001b[39mset_aspect(aspect)\n\u001b[0;32m-> 5895\u001b[0m \u001b[43mim\u001b[49m\u001b[38;5;241;43m.\u001b[39;49m\u001b[43mset_data\u001b[49m\u001b[43m(\u001b[49m\u001b[43mX\u001b[49m\u001b[43m)\u001b[49m\n\u001b[1;32m   5896\u001b[0m im\u001b[38;5;241m.\u001b[39mset_alpha(alpha)\n\u001b[1;32m   5897\u001b[0m \u001b[38;5;28;01mif\u001b[39;00m im\u001b[38;5;241m.\u001b[39mget_clip_path() \u001b[38;5;129;01mis\u001b[39;00m \u001b[38;5;28;01mNone\u001b[39;00m:\n\u001b[1;32m   5898\u001b[0m     \u001b[38;5;66;03m# image does not already have clipping set, clip to Axes patch\u001b[39;00m\n",
      "File \u001b[0;32m~/quantum-sensing-auto-alignment/venv/lib/python3.12/site-packages/matplotlib/image.py:729\u001b[0m, in \u001b[0;36m_ImageBase.set_data\u001b[0;34m(self, A)\u001b[0m\n\u001b[1;32m    727\u001b[0m \u001b[38;5;28;01mif\u001b[39;00m \u001b[38;5;28misinstance\u001b[39m(A, PIL\u001b[38;5;241m.\u001b[39mImage\u001b[38;5;241m.\u001b[39mImage):\n\u001b[1;32m    728\u001b[0m     A \u001b[38;5;241m=\u001b[39m pil_to_array(A)  \u001b[38;5;66;03m# Needed e.g. to apply png palette.\u001b[39;00m\n\u001b[0;32m--> 729\u001b[0m \u001b[38;5;28mself\u001b[39m\u001b[38;5;241m.\u001b[39m_A \u001b[38;5;241m=\u001b[39m \u001b[38;5;28;43mself\u001b[39;49m\u001b[38;5;241;43m.\u001b[39;49m\u001b[43m_normalize_image_array\u001b[49m\u001b[43m(\u001b[49m\u001b[43mA\u001b[49m\u001b[43m)\u001b[49m\n\u001b[1;32m    730\u001b[0m \u001b[38;5;28mself\u001b[39m\u001b[38;5;241m.\u001b[39m_imcache \u001b[38;5;241m=\u001b[39m \u001b[38;5;28;01mNone\u001b[39;00m\n\u001b[1;32m    731\u001b[0m \u001b[38;5;28mself\u001b[39m\u001b[38;5;241m.\u001b[39mstale \u001b[38;5;241m=\u001b[39m \u001b[38;5;28;01mTrue\u001b[39;00m\n",
      "File \u001b[0;32m~/quantum-sensing-auto-alignment/venv/lib/python3.12/site-packages/matplotlib/image.py:697\u001b[0m, in \u001b[0;36m_ImageBase._normalize_image_array\u001b[0;34m(A)\u001b[0m\n\u001b[1;32m    695\u001b[0m     A \u001b[38;5;241m=\u001b[39m A\u001b[38;5;241m.\u001b[39msqueeze(\u001b[38;5;241m-\u001b[39m\u001b[38;5;241m1\u001b[39m)  \u001b[38;5;66;03m# If just (M, N, 1), assume scalar and apply colormap.\u001b[39;00m\n\u001b[1;32m    696\u001b[0m \u001b[38;5;28;01mif\u001b[39;00m \u001b[38;5;129;01mnot\u001b[39;00m (A\u001b[38;5;241m.\u001b[39mndim \u001b[38;5;241m==\u001b[39m \u001b[38;5;241m2\u001b[39m \u001b[38;5;129;01mor\u001b[39;00m A\u001b[38;5;241m.\u001b[39mndim \u001b[38;5;241m==\u001b[39m \u001b[38;5;241m3\u001b[39m \u001b[38;5;129;01mand\u001b[39;00m A\u001b[38;5;241m.\u001b[39mshape[\u001b[38;5;241m-\u001b[39m\u001b[38;5;241m1\u001b[39m] \u001b[38;5;129;01min\u001b[39;00m [\u001b[38;5;241m3\u001b[39m, \u001b[38;5;241m4\u001b[39m]):\n\u001b[0;32m--> 697\u001b[0m     \u001b[38;5;28;01mraise\u001b[39;00m \u001b[38;5;167;01mTypeError\u001b[39;00m(\u001b[38;5;124mf\u001b[39m\u001b[38;5;124m\"\u001b[39m\u001b[38;5;124mInvalid shape \u001b[39m\u001b[38;5;132;01m{\u001b[39;00mA\u001b[38;5;241m.\u001b[39mshape\u001b[38;5;132;01m}\u001b[39;00m\u001b[38;5;124m for image data\u001b[39m\u001b[38;5;124m\"\u001b[39m)\n\u001b[1;32m    698\u001b[0m \u001b[38;5;28;01mif\u001b[39;00m A\u001b[38;5;241m.\u001b[39mndim \u001b[38;5;241m==\u001b[39m \u001b[38;5;241m3\u001b[39m:\n\u001b[1;32m    699\u001b[0m     \u001b[38;5;66;03m# If the input data has values outside the valid range (after\u001b[39;00m\n\u001b[1;32m    700\u001b[0m     \u001b[38;5;66;03m# normalisation), we issue a warning and then clip X to the bounds\u001b[39;00m\n\u001b[1;32m    701\u001b[0m     \u001b[38;5;66;03m# - otherwise casting wraps extreme values, hiding outliers and\u001b[39;00m\n\u001b[1;32m    702\u001b[0m     \u001b[38;5;66;03m# making reliable interpretation impossible.\u001b[39;00m\n\u001b[1;32m    703\u001b[0m     high \u001b[38;5;241m=\u001b[39m \u001b[38;5;241m255\u001b[39m \u001b[38;5;28;01mif\u001b[39;00m np\u001b[38;5;241m.\u001b[39missubdtype(A\u001b[38;5;241m.\u001b[39mdtype, np\u001b[38;5;241m.\u001b[39minteger) \u001b[38;5;28;01melse\u001b[39;00m \u001b[38;5;241m1\u001b[39m\n",
      "\u001b[0;31mTypeError\u001b[0m: Invalid shape (11, 250, 250) for image data"
     ]
    },
    {
     "data": {
      "image/png": "[encoded data removed]",
      "text/plain": [
       "<Figure size 640x480 with 1 Axes>"
      ]
     },
     "metadata": {},
     "output_type": "display_data"
    }
   ],
   "source": [
    "plt.imshow(np.abs(visibility[0]))"
   ]
  },
  {
   "cell_type": "code",
   "execution_count": 126,
   "id": "d277ba3a-29fa-4df7-ba41-754b15baf6b8",
   "metadata": {},
   "outputs": [
    {
     "data": {
      "text/plain": [
       "[<matplotlib.lines.Line2D at 0x7a061c2a7b30>]"
      ]
     },
     "execution_count": 126,
     "metadata": {},
     "output_type": "execute_result"
    },
    {
     "data": {
      "image/png": "[encoded data removed]",
      "text/plain": [
       "<Figure size 640x480 with 1 Axes>"
      ]
     },
     "metadata": {},
     "output_type": "display_data"
    }
   ],
   "source": [
    "plt.plot(np.abs(visibility[:, 65,65]))"
   ]
  },
  {
   "cell_type": "code",
   "execution_count": 7,
   "id": "b2a5151f-aa0d-46fe-9ea4-efa56070e2ff",
   "metadata": {},
   "outputs": [],
   "source": [
    "qi.shutdown()"
   ]
  },
  {
   "cell_type": "code",
   "execution_count": 10,
   "id": "a7613d06-5b32-4b53-b993-af3d6c3b9730",
   "metadata": {},
   "outputs": [
    {
     "name": "stderr",
     "output_type": "stream",
     "text": [
      "Exception in thread Thread-11 (_actions):\n",
      "Traceback (most recent call last):\n",
      "  File \"/usr/lib/python3.12/threading.py\", line 1073, in _bootstrap_inner\n",
      "    self.run()\n",
      "  File \"/home/computer/quantum-sensing-auto-alignment/venv/lib/python3.12/site-packages/ipykernel/ipkernel.py\", line 766, in run_closure\n",
      "    _threading_Thread_run(self)\n",
      "  File \"/usr/lib/python3.12/threading.py\", line 1010, in run\n",
      "    self._target(*self._args, **self._kwargs)\n",
      "  File \"/home/computer/quantum-sensing-auto-alignment/app/drivers.py\", line 353, in _actions\n",
      "    while not (int(position) - self._tol <= self._actuator.get_position(channel=axis) <= int(position) + self._tol) and not observed_twice:\n",
      "                                            ^^^^^^^^^^^^^^^^^^^^^^^^^^^^^^^^^^^^^^^^^\n",
      "  File \"/home/computer/quantum-sensing-auto-alignment/venv/lib/python3.12/site-packages/pylablib/core/utils/general.py\", line 1120, in wrapped\n",
      "    res=func(**all_args)\n",
      "        ^^^^^^^^^^^^^^^^\n",
      "  File \"/home/computer/quantum-sensing-auto-alignment/venv/lib/python3.12/site-packages/pylablib/devices/Thorlabs/kinesis.py\", line 848, in _pzmot_get_position\n",
      "    data=self._pzmot_req(0x05,channel)\n",
      "         ^^^^^^^^^^^^^^^^^^^^^^^^^^^^^\n",
      "  File \"/home/computer/quantum-sensing-auto-alignment/venv/lib/python3.12/site-packages/pylablib/core/devio/interface.py\", line 666, in wrapped\n",
      "    res=func(**all_args)\n",
      "        ^^^^^^^^^^^^^^^^\n",
      "  File \"/home/computer/quantum-sensing-auto-alignment/venv/lib/python3.12/site-packages/pylablib/devices/Thorlabs/kinesis.py\", line 836, in _pzmot_req\n",
      "    raise RuntimeError(\"unexpected channel in the reply: expected 0x{:02x}, got 0x{:02x}\".format(channel,rchannel))\n",
      "RuntimeError: unexpected channel in the reply: expected 0x01, got 0x05\n"
     ]
    },
    {
     "ename": "KeyboardInterrupt",
     "evalue": "",
     "output_type": "error",
     "traceback": [
      "\u001b[0;31m---------------------------------------------------------------------------\u001b[0m",
      "\u001b[0;31mKeyboardInterrupt\u001b[0m                         Traceback (most recent call last)",
      "Cell \u001b[0;32mIn[10], line 1\u001b[0m\n\u001b[0;32m----> 1\u001b[0m \u001b[43mqi\u001b[49m\u001b[38;5;241;43m.\u001b[39;49m\u001b[43mactuator_list\u001b[49m\u001b[43m[\u001b[49m\u001b[38;5;124;43m'\u001b[39;49m\u001b[38;5;124;43msig_arm_piezo\u001b[39;49m\u001b[38;5;124;43m'\u001b[39;49m\u001b[43m]\u001b[49m\u001b[38;5;241;43m.\u001b[39;49m\u001b[43mset_parameters\u001b[49m\u001b[43m(\u001b[49m\u001b[38;5;241;43m100\u001b[39;49m\u001b[43m)\u001b[49m\n",
      "File \u001b[0;32m~/quantum-sensing-auto-alignment/app/drivers.py:301\u001b[0m, in \u001b[0;36mKIM101.set_parameters\u001b[0;34m(self, X, asynch, axis)\u001b[0m\n\u001b[1;32m    299\u001b[0m \u001b[38;5;28mself\u001b[39m\u001b[38;5;241m.\u001b[39masynch_action(ActuatorAction\u001b[38;5;241m.\u001b[39mMOVE, (X, axis))\n\u001b[1;32m    300\u001b[0m \u001b[38;5;28;01mif\u001b[39;00m \u001b[38;5;129;01mnot\u001b[39;00m asynch:\n\u001b[0;32m--> 301\u001b[0m     \u001b[38;5;28;43mself\u001b[39;49m\u001b[38;5;241;43m.\u001b[39;49m\u001b[43mwait_on_actuator\u001b[49m\u001b[43m(\u001b[49m\u001b[43maxis\u001b[49m\u001b[38;5;241;43m=\u001b[39;49m\u001b[43maxis\u001b[49m\u001b[43m)\u001b[49m\n",
      "File \u001b[0;32m~/quantum-sensing-auto-alignment/app/drivers.py:287\u001b[0m, in \u001b[0;36mKIM101.wait_on_actuator\u001b[0;34m(self, axis)\u001b[0m\n\u001b[1;32m    284\u001b[0m     \u001b[38;5;28;01mif\u001b[39;00m \u001b[38;5;28mself\u001b[39m\u001b[38;5;241m.\u001b[39m_state \u001b[38;5;129;01mis\u001b[39;00m ActuatorState\u001b[38;5;241m.\u001b[39mREADY \u001b[38;5;129;01mand\u001b[39;00m \u001b[38;5;129;01mnot\u001b[39;00m \u001b[38;5;28mself\u001b[39m\u001b[38;5;241m.\u001b[39masync_running\u001b[38;5;241m.\u001b[39mis_set() \u001b[38;5;129;01mand\u001b[39;00m \u001b[38;5;28mself\u001b[39m\u001b[38;5;241m.\u001b[39m_actuator\u001b[38;5;241m.\u001b[39mis_moving(channel\u001b[38;5;241m=\u001b[39m\u001b[38;5;28mint\u001b[39m(axis)):\n\u001b[1;32m    285\u001b[0m         \u001b[38;5;28;01mreturn\u001b[39;00m \u001b[38;5;28;01mTrue\u001b[39;00m\n\u001b[0;32m--> 287\u001b[0m     \u001b[43msleep\u001b[49m\u001b[43m(\u001b[49m\u001b[38;5;241;43m0.01\u001b[39;49m\u001b[43m)\u001b[49m     \u001b[38;5;66;03m# rate limit\u001b[39;00m\n\u001b[1;32m    289\u001b[0m \u001b[38;5;28;01mreturn\u001b[39;00m \u001b[38;5;28;01mFalse\u001b[39;00m\n",
      "\u001b[0;31mKeyboardInterrupt\u001b[0m: "
     ]
    }
   ],
   "source": [
    "qi.actuator_list['sig_arm_piezo'].set_parameters(100)"
   ]
  },
  {
   "cell_type": "code",
   "execution_count": 11,
   "id": "52acf8c7-db0f-4549-bb7a-3a1a55af789b",
   "metadata": {},
   "outputs": [],
   "source": [
    "qi.shutdown()"
   ]
  },
  {
   "cell_type": "code",
   "execution_count": 1,
   "id": "c736cb98-683a-4ec1-a24e-850dbce30228",
   "metadata": {},
   "outputs": [],
   "source": [
    "from app.drivers import KIM101"
   ]
  },
  {
   "cell_type": "code",
   "execution_count": 2,
   "id": "44796ca0-c78f-4b70-a222-211914262faf",
   "metadata": {},
   "outputs": [],
   "source": [
    "sig_arm_piezo =  KIM101('/dev/ttyUSB3', 'sig_arm_piezo')\n",
    "sig_arm_piezo.initialise(config_dict={})"
   ]
  },
  {
   "cell_type": "code",
   "execution_count": 8,
   "id": "0190b028-04f0-4bb5-a1a0-ed779152410a",
   "metadata": {},
   "outputs": [],
   "source": [
    "sig_arm_piezo.set_parameters(0, axis=1)"
   ]
  },
  {
   "cell_type": "code",
   "execution_count": 10,
   "id": "4ab2ea6d-8baf-4fb9-8a2e-4d174ea643fe",
   "metadata": {},
   "outputs": [],
   "source": [
    "sig_arm_piezo.shutdown()"
   ]
  },
  {
   "cell_type": "code",
   "execution_count": 9,
   "id": "999a24b0-033e-498a-8014-d91c57f33d5f",
   "metadata": {},
   "outputs": [
    {
     "data": {
      "text/plain": [
       "[0, 0]"
      ]
     },
     "execution_count": 9,
     "metadata": {},
     "output_type": "execute_result"
    }
   ],
   "source": [
    "sig_arm_piezo.get_position()"
   ]
  },
  {
   "cell_type": "code",
   "execution_count": 5,
   "id": "1fc46cbc-23f8-4456-b5ce-cdbfda759f3a",
   "metadata": {},
   "outputs": [],
   "source": [
    "from app.driver_libs.jena import NV40"
   ]
  },
  {
   "cell_type": "code",
   "execution_count": 6,
   "id": "59713e2a-93c7-4b1c-9ee9-946aa24ecc5d",
   "metadata": {},
   "outputs": [
    {
     "ename": "AttributeError",
     "evalue": "'NV40' object has no attribute 'serial_conn'",
     "output_type": "error",
     "traceback": [
      "\u001b[0;31m---------------------------------------------------------------------------\u001b[0m",
      "\u001b[0;31mAttributeError\u001b[0m                            Traceback (most recent call last)",
      "Cell \u001b[0;32mIn[6], line 1\u001b[0m\n\u001b[0;32m----> 1\u001b[0m nv \u001b[38;5;241m=\u001b[39m  \u001b[43mNV40\u001b[49m\u001b[43m(\u001b[49m\u001b[38;5;124;43m'\u001b[39;49m\u001b[38;5;124;43m/dev/ttyUSB7\u001b[39;49m\u001b[38;5;124;43m'\u001b[39;49m\u001b[43m)\u001b[49m\n",
      "File \u001b[0;32m~/quantum-sensing-auto-alignment/app/driver_libs/jena.py:55\u001b[0m, in \u001b[0;36mNV40.__init__\u001b[0;34m(self, port, timeout, closed_loop)\u001b[0m\n\u001b[1;32m     47\u001b[0m \u001b[38;5;28mself\u001b[39m\u001b[38;5;241m.\u001b[39merrors \u001b[38;5;241m=\u001b[39m {\u001b[38;5;124m'\u001b[39m\u001b[38;5;124merr,1\u001b[39m\u001b[38;5;124m'\u001b[39m:\u001b[38;5;124m'\u001b[39m\u001b[38;5;124mUnknown command\u001b[39m\u001b[38;5;124m'\u001b[39m,\n\u001b[1;32m     48\u001b[0m               \u001b[38;5;124m'\u001b[39m\u001b[38;5;124merr,2\u001b[39m\u001b[38;5;124m'\u001b[39m:\u001b[38;5;124m'\u001b[39m\u001b[38;5;124mToo many characters in the command\u001b[39m\u001b[38;5;124m'\u001b[39m,\n\u001b[1;32m     49\u001b[0m               \u001b[38;5;124m'\u001b[39m\u001b[38;5;124merr,3\u001b[39m\u001b[38;5;124m'\u001b[39m:\u001b[38;5;124m'\u001b[39m\u001b[38;5;124mToo many characters in the parameter\u001b[39m\u001b[38;5;124m'\u001b[39m,\n\u001b[0;32m   (...)\u001b[0m\n\u001b[1;32m     52\u001b[0m               \u001b[38;5;124m'\u001b[39m\u001b[38;5;124merr,6\u001b[39m\u001b[38;5;124m'\u001b[39m:\u001b[38;5;124m'\u001b[39m\u001b[38;5;124mWrong separator\u001b[39m\u001b[38;5;124m'\u001b[39m,\n\u001b[1;32m     53\u001b[0m               \u001b[38;5;124m'\u001b[39m\u001b[38;5;124merr,7\u001b[39m\u001b[38;5;124m'\u001b[39m:\u001b[38;5;124m'\u001b[39m\u001b[38;5;124mPosition out of range\u001b[39m\u001b[38;5;124m'\u001b[39m}\n\u001b[1;32m     54\u001b[0m \u001b[38;5;66;03m# self.set_remote_control(True)\u001b[39;00m\n\u001b[0;32m---> 55\u001b[0m \u001b[38;5;28;43mself\u001b[39;49m\u001b[38;5;241;43m.\u001b[39;49m\u001b[43mset_closed_loop\u001b[49m\u001b[43m(\u001b[49m\u001b[43mclosed_loop\u001b[49m\u001b[43m)\u001b[49m\n\u001b[1;32m     56\u001b[0m \u001b[38;5;28mself\u001b[39m\u001b[38;5;241m.\u001b[39mserial_conn \u001b[38;5;241m=\u001b[39m serial\u001b[38;5;241m.\u001b[39mSerial(port\u001b[38;5;241m=\u001b[39m\u001b[38;5;28mself\u001b[39m\u001b[38;5;241m.\u001b[39mport, baudrate\u001b[38;5;241m=\u001b[39m\u001b[38;5;28mself\u001b[39m\u001b[38;5;241m.\u001b[39mbaudrate, bytesize\u001b[38;5;241m=\u001b[39m\u001b[38;5;28mself\u001b[39m\u001b[38;5;241m.\u001b[39mbytesize, \n\u001b[1;32m     57\u001b[0m     parity\u001b[38;5;241m=\u001b[39m\u001b[38;5;28mself\u001b[39m\u001b[38;5;241m.\u001b[39mparity, timeout\u001b[38;5;241m=\u001b[39m\u001b[38;5;28mself\u001b[39m\u001b[38;5;241m.\u001b[39mtimeout)\n",
      "File \u001b[0;32m~/quantum-sensing-auto-alignment/app/driver_libs/jena.py:113\u001b[0m, in \u001b[0;36mNV40.set_closed_loop\u001b[0;34m(self, is_enabled)\u001b[0m\n\u001b[1;32m    107\u001b[0m \u001b[38;5;250m\u001b[39m\u001b[38;5;124;03m\"\"\"Switch between open and closed loop mode\u001b[39;00m\n\u001b[1;32m    108\u001b[0m \u001b[38;5;124;03m\u001b[39;00m\n\u001b[1;32m    109\u001b[0m \u001b[38;5;124;03mArgs:\u001b[39;00m\n\u001b[1;32m    110\u001b[0m \u001b[38;5;124;03m    is_enabled (bool): closed loop (True) or open loop (False) \u001b[39;00m\n\u001b[1;32m    111\u001b[0m \u001b[38;5;124;03m\"\"\"\u001b[39;00m\n\u001b[1;32m    112\u001b[0m \u001b[38;5;28;01mif\u001b[39;00m is_enabled:\n\u001b[0;32m--> 113\u001b[0m     \u001b[38;5;28;43mself\u001b[39;49m\u001b[38;5;241;43m.\u001b[39;49m\u001b[43m__execute\u001b[49m\u001b[43m(\u001b[49m\u001b[38;5;124;43m'\u001b[39;49m\u001b[38;5;124;43mcl\u001b[39;49m\u001b[38;5;124;43m'\u001b[39;49m\u001b[43m)\u001b[49m  \n\u001b[1;32m    114\u001b[0m \u001b[38;5;28;01melse\u001b[39;00m:\n\u001b[1;32m    115\u001b[0m     \u001b[38;5;28mself\u001b[39m\u001b[38;5;241m.\u001b[39m__execute(\u001b[38;5;124m'\u001b[39m\u001b[38;5;124mol\u001b[39m\u001b[38;5;124m'\u001b[39m)\n",
      "File \u001b[0;32m~/quantum-sensing-auto-alignment/app/driver_libs/jena.py:80\u001b[0m, in \u001b[0;36mNV40.__execute\u001b[0;34m(self, command)\u001b[0m\n\u001b[1;32m     68\u001b[0m \u001b[38;5;250m\u001b[39m\u001b[38;5;124;03m\"\"\"Execute a device command and check if the device returned an error\u001b[39;00m\n\u001b[1;32m     69\u001b[0m \u001b[38;5;124;03m\u001b[39;00m\n\u001b[1;32m     70\u001b[0m \u001b[38;5;124;03mArgs:\u001b[39;00m\n\u001b[0;32m   (...)\u001b[0m\n\u001b[1;32m     77\u001b[0m \u001b[38;5;124;03m    DeviceError\u001b[39;00m\n\u001b[1;32m     78\u001b[0m \u001b[38;5;124;03m\"\"\"\u001b[39;00m\n\u001b[1;32m     79\u001b[0m command \u001b[38;5;241m+\u001b[39m\u001b[38;5;241m=\u001b[39m \u001b[38;5;124m'\u001b[39m\u001b[38;5;130;01m\\r\u001b[39;00m\u001b[38;5;124m'\u001b[39m\n\u001b[0;32m---> 80\u001b[0m \u001b[38;5;28;43mself\u001b[39;49m\u001b[38;5;241;43m.\u001b[39;49m\u001b[43mserial_conn\u001b[49m\u001b[38;5;241m.\u001b[39mwrite(command\u001b[38;5;241m.\u001b[39mencode())\n\u001b[1;32m     81\u001b[0m answer \u001b[38;5;241m=\u001b[39m \u001b[38;5;28mself\u001b[39m\u001b[38;5;241m.\u001b[39mserial_conn\u001b[38;5;241m.\u001b[39mread(\u001b[38;5;241m100\u001b[39m)\u001b[38;5;241m.\u001b[39mdecode(\u001b[38;5;124m\"\u001b[39m\u001b[38;5;124mutf-8\u001b[39m\u001b[38;5;124m\"\u001b[39m)\u001b[38;5;241m.\u001b[39mrstrip()\n\u001b[1;32m     82\u001b[0m \u001b[38;5;28;01mif\u001b[39;00m answer \u001b[38;5;129;01min\u001b[39;00m \u001b[38;5;28mself\u001b[39m\u001b[38;5;241m.\u001b[39merrors:\n",
      "\u001b[0;31mAttributeError\u001b[0m: 'NV40' object has no attribute 'serial_conn'"
     ]
    }
   ],
   "source": [
    "nv =  NV40('/dev/ttyUSB7')"
   ]
  },
  {
   "cell_type": "code",
   "execution_count": 46,
   "id": "038855fb-5709-48ff-86e7-dc8cf0a20dee",
   "metadata": {},
   "outputs": [],
   "source": [
    "nv.set_position(0)"
   ]
  },
  {
   "cell_type": "code",
   "execution_count": 47,
   "id": "d8bd9fe1-07db-4865-b4a8-58989a1cb06e",
   "metadata": {},
   "outputs": [],
   "source": [
    "nv.set_remote_control(False)"
   ]
  },
  {
   "cell_type": "code",
   "execution_count": 48,
   "id": "67082c84-9994-44fe-bab9-e4992e76f764",
   "metadata": {},
   "outputs": [],
   "source": [
    "nv.__exit__(1,1,1)"
   ]
  },
  {
   "cell_type": "code",
   "execution_count": null,
   "id": "e87780a9-6d01-48ec-bad1-907e38bf5f05",
   "metadata": {},
   "outputs": [],
   "source": []
  }
 ],
 "metadata": {
  "kernelspec": {
   "display_name": "Python 3 (ipykernel)",
   "language": "python",
   "name": "python3"
  },
  "language_info": {
   "codemirror_mode": {
    "name": "ipython",
    "version": 3
   },
   "file_extension": ".py",
   "mimetype": "text/x-python",
   "name": "python",
   "nbconvert_exporter": "python",
   "pygments_lexer": "ipython3",
   "version": "3.12.3"
  }
 },
 "nbformat": 4,
 "nbformat_minor": 5
}
